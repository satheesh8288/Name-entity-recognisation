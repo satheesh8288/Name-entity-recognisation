{
 "cells": [
  {
   "cell_type": "code",
   "execution_count": 57,
   "metadata": {
    "id": "6EYX4OqKWPcP"
   },
   "outputs": [],
   "source": [
    "import tensorflow as tf"
   ]
  },
  {
   "cell_type": "code",
   "execution_count": 58,
   "metadata": {
    "id": "5BeFamu2Wq5V"
   },
   "outputs": [],
   "source": [
    "from tensorflow import keras"
   ]
  },
  {
   "cell_type": "code",
   "execution_count": 59,
   "metadata": {
    "id": "fAab8r0nWub-"
   },
   "outputs": [],
   "source": [
    "from tensorflow.keras import layers"
   ]
  },
  {
   "cell_type": "code",
   "execution_count": 60,
   "metadata": {
    "id": "ARwi02UlW0S2"
   },
   "outputs": [],
   "source": [
    "import pandas as pd"
   ]
  },
  {
   "cell_type": "code",
   "execution_count": 61,
   "metadata": {
    "id": "qXdFBgBUW81o"
   },
   "outputs": [],
   "source": [
    "import numpy as np"
   ]
  },
  {
   "cell_type": "code",
   "execution_count": 62,
   "metadata": {
    "id": "HUc8IYjYW-vQ"
   },
   "outputs": [],
   "source": [
    "data=pd.read_csv(\"C:/Users/satheesh/Downloads/Names1/Names.csv\")"
   ]
  },
  {
   "cell_type": "code",
   "execution_count": 63,
   "metadata": {
    "colab": {
     "base_uri": "https://localhost:8080/",
     "height": 205
    },
    "id": "itVuZ3p5ZXGB",
    "outputId": "86aa8b79-9945-427f-c1b9-5314306b5e51"
   },
   "outputs": [
    {
     "data": {
      "text/html": [
       "<div>\n",
       "<style scoped>\n",
       "    .dataframe tbody tr th:only-of-type {\n",
       "        vertical-align: middle;\n",
       "    }\n",
       "\n",
       "    .dataframe tbody tr th {\n",
       "        vertical-align: top;\n",
       "    }\n",
       "\n",
       "    .dataframe thead th {\n",
       "        text-align: right;\n",
       "    }\n",
       "</style>\n",
       "<table border=\"1\" class=\"dataframe\">\n",
       "  <thead>\n",
       "    <tr style=\"text-align: right;\">\n",
       "      <th></th>\n",
       "      <th>Id</th>\n",
       "      <th>Name</th>\n",
       "      <th>Year</th>\n",
       "      <th>Gender</th>\n",
       "      <th>Count</th>\n",
       "    </tr>\n",
       "  </thead>\n",
       "  <tbody>\n",
       "    <tr>\n",
       "      <th>0</th>\n",
       "      <td>1</td>\n",
       "      <td>Mary</td>\n",
       "      <td>1880</td>\n",
       "      <td>F</td>\n",
       "      <td>7065</td>\n",
       "    </tr>\n",
       "    <tr>\n",
       "      <th>1</th>\n",
       "      <td>2</td>\n",
       "      <td>Anna</td>\n",
       "      <td>1880</td>\n",
       "      <td>F</td>\n",
       "      <td>2604</td>\n",
       "    </tr>\n",
       "    <tr>\n",
       "      <th>2</th>\n",
       "      <td>3</td>\n",
       "      <td>Emma</td>\n",
       "      <td>1880</td>\n",
       "      <td>F</td>\n",
       "      <td>2003</td>\n",
       "    </tr>\n",
       "    <tr>\n",
       "      <th>3</th>\n",
       "      <td>4</td>\n",
       "      <td>Elizabeth</td>\n",
       "      <td>1880</td>\n",
       "      <td>F</td>\n",
       "      <td>1939</td>\n",
       "    </tr>\n",
       "    <tr>\n",
       "      <th>4</th>\n",
       "      <td>5</td>\n",
       "      <td>Minnie</td>\n",
       "      <td>1880</td>\n",
       "      <td>F</td>\n",
       "      <td>1746</td>\n",
       "    </tr>\n",
       "  </tbody>\n",
       "</table>\n",
       "</div>"
      ],
      "text/plain": [
       "   Id       Name  Year Gender  Count\n",
       "0   1       Mary  1880      F   7065\n",
       "1   2       Anna  1880      F   2604\n",
       "2   3       Emma  1880      F   2003\n",
       "3   4  Elizabeth  1880      F   1939\n",
       "4   5     Minnie  1880      F   1746"
      ]
     },
     "execution_count": 63,
     "metadata": {},
     "output_type": "execute_result"
    }
   ],
   "source": [
    "data.head()"
   ]
  },
  {
   "cell_type": "code",
   "execution_count": 64,
   "metadata": {
    "id": "SuH4QvnfZYp4"
   },
   "outputs": [],
   "source": [
    "df1=data.drop([\"Id\",\"Year\",\"Count\"],axis=1)"
   ]
  },
  {
   "cell_type": "code",
   "execution_count": 65,
   "metadata": {
    "colab": {
     "base_uri": "https://localhost:8080/",
     "height": 205
    },
    "id": "CzYLfZb8Zrhu",
    "outputId": "26bf0003-6fa5-443c-f767-6009b3617903"
   },
   "outputs": [
    {
     "data": {
      "text/html": [
       "<div>\n",
       "<style scoped>\n",
       "    .dataframe tbody tr th:only-of-type {\n",
       "        vertical-align: middle;\n",
       "    }\n",
       "\n",
       "    .dataframe tbody tr th {\n",
       "        vertical-align: top;\n",
       "    }\n",
       "\n",
       "    .dataframe thead th {\n",
       "        text-align: right;\n",
       "    }\n",
       "</style>\n",
       "<table border=\"1\" class=\"dataframe\">\n",
       "  <thead>\n",
       "    <tr style=\"text-align: right;\">\n",
       "      <th></th>\n",
       "      <th>Name</th>\n",
       "      <th>Gender</th>\n",
       "    </tr>\n",
       "  </thead>\n",
       "  <tbody>\n",
       "    <tr>\n",
       "      <th>0</th>\n",
       "      <td>Mary</td>\n",
       "      <td>F</td>\n",
       "    </tr>\n",
       "    <tr>\n",
       "      <th>1</th>\n",
       "      <td>Anna</td>\n",
       "      <td>F</td>\n",
       "    </tr>\n",
       "    <tr>\n",
       "      <th>2</th>\n",
       "      <td>Emma</td>\n",
       "      <td>F</td>\n",
       "    </tr>\n",
       "    <tr>\n",
       "      <th>3</th>\n",
       "      <td>Elizabeth</td>\n",
       "      <td>F</td>\n",
       "    </tr>\n",
       "    <tr>\n",
       "      <th>4</th>\n",
       "      <td>Minnie</td>\n",
       "      <td>F</td>\n",
       "    </tr>\n",
       "  </tbody>\n",
       "</table>\n",
       "</div>"
      ],
      "text/plain": [
       "        Name Gender\n",
       "0       Mary      F\n",
       "1       Anna      F\n",
       "2       Emma      F\n",
       "3  Elizabeth      F\n",
       "4     Minnie      F"
      ]
     },
     "execution_count": 65,
     "metadata": {},
     "output_type": "execute_result"
    }
   ],
   "source": [
    "df1.head()"
   ]
  },
  {
   "cell_type": "code",
   "execution_count": 66,
   "metadata": {
    "colab": {
     "base_uri": "https://localhost:8080/"
    },
    "id": "2u8_SEkoZxcs",
    "outputId": "a8079a61-8472-4f15-dc10-746820f4818f"
   },
   "outputs": [
    {
     "data": {
      "text/plain": [
       "(1825433, 2)"
      ]
     },
     "execution_count": 66,
     "metadata": {},
     "output_type": "execute_result"
    }
   ],
   "source": [
    "df1.shape"
   ]
  },
  {
   "cell_type": "code",
   "execution_count": 67,
   "metadata": {
    "colab": {
     "base_uri": "https://localhost:8080/"
    },
    "id": "K-M9XzXbZ22u",
    "outputId": "4df8c36e-7dc5-47b2-9ea4-aa62a3267a52"
   },
   "outputs": [
    {
     "data": {
      "text/plain": [
       "array(['Mary', 'Anna', 'Emma', ..., 'Zijun', 'Zilas', 'Zirui'],\n",
       "      dtype=object)"
      ]
     },
     "execution_count": 67,
     "metadata": {},
     "output_type": "execute_result"
    }
   ],
   "source": [
    "df1[\"Name\"].unique()"
   ]
  },
  {
   "cell_type": "code",
   "execution_count": 68,
   "metadata": {
    "colab": {
     "base_uri": "https://localhost:8080/"
    },
    "id": "WFCL14XKaTgu",
    "outputId": "e647b38d-8273-4f7c-de94-6a1344e0cc00"
   },
   "outputs": [
    {
     "data": {
      "text/plain": [
       "93889"
      ]
     },
     "execution_count": 68,
     "metadata": {},
     "output_type": "execute_result"
    }
   ],
   "source": [
    "df1[\"Name\"].unique().size"
   ]
  },
  {
   "cell_type": "code",
   "execution_count": 69,
   "metadata": {
    "colab": {
     "base_uri": "https://localhost:8080/"
    },
    "id": "cdfDN-iJanvs",
    "outputId": "7d77173d-aaf8-4a5e-a249-0ff0ed717674"
   },
   "outputs": [
    {
     "data": {
      "text/plain": [
       "93889"
      ]
     },
     "execution_count": 69,
     "metadata": {},
     "output_type": "execute_result"
    }
   ],
   "source": [
    "df1[\"Name\"].nunique()"
   ]
  },
  {
   "cell_type": "code",
   "execution_count": 70,
   "metadata": {
    "colab": {
     "base_uri": "https://localhost:8080/"
    },
    "id": "zfQbA5pcawt3",
    "outputId": "43ab65ac-a076-4eb8-9abe-582c458c8357"
   },
   "outputs": [
    {
     "data": {
      "text/plain": [
       "William        270\n",
       "Jessie         270\n",
       "Jesse          270\n",
       "Leslie         270\n",
       "Sidney         270\n",
       "              ... \n",
       "Jeanjacques      1\n",
       "Yasmeli          1\n",
       "Voight           1\n",
       "Gwennetta        1\n",
       "Dametrious       1\n",
       "Name: Name, Length: 93889, dtype: int64"
      ]
     },
     "execution_count": 70,
     "metadata": {},
     "output_type": "execute_result"
    }
   ],
   "source": [
    "df1[\"Name\"].value_counts()"
   ]
  },
  {
   "cell_type": "code",
   "execution_count": 71,
   "metadata": {
    "colab": {
     "base_uri": "https://localhost:8080/"
    },
    "id": "dBohfc83a2gv",
    "outputId": "e0b95e24-7e42-48f7-8ae9-8be3911abe2d"
   },
   "outputs": [
    {
     "data": {
      "text/plain": [
       "0          0\n",
       "1          0\n",
       "2          0\n",
       "3          0\n",
       "4          0\n",
       "          ..\n",
       "1825428    1\n",
       "1825429    1\n",
       "1825430    1\n",
       "1825431    1\n",
       "1825432    1\n",
       "Length: 1825433, dtype: int8"
      ]
     },
     "execution_count": 71,
     "metadata": {},
     "output_type": "execute_result"
    }
   ],
   "source": [
    "df1[\"Gender\"].astype(\"category\").cat.codes#we can use here getdummies but this is new way"
   ]
  },
  {
   "cell_type": "code",
   "execution_count": 72,
   "metadata": {
    "id": "vZgbarlYb2K8"
   },
   "outputs": [],
   "source": [
    "df1[\"Gender\"]=df1[\"Gender\"].astype(\"category\").cat.codes"
   ]
  },
  {
   "cell_type": "code",
   "execution_count": 73,
   "metadata": {
    "colab": {
     "base_uri": "https://localhost:8080/",
     "height": 205
    },
    "id": "nUIoea_mcI3X",
    "outputId": "438cd302-98bc-40e7-830f-94b6bf804d84"
   },
   "outputs": [
    {
     "data": {
      "text/html": [
       "<div>\n",
       "<style scoped>\n",
       "    .dataframe tbody tr th:only-of-type {\n",
       "        vertical-align: middle;\n",
       "    }\n",
       "\n",
       "    .dataframe tbody tr th {\n",
       "        vertical-align: top;\n",
       "    }\n",
       "\n",
       "    .dataframe thead th {\n",
       "        text-align: right;\n",
       "    }\n",
       "</style>\n",
       "<table border=\"1\" class=\"dataframe\">\n",
       "  <thead>\n",
       "    <tr style=\"text-align: right;\">\n",
       "      <th></th>\n",
       "      <th>Name</th>\n",
       "      <th>Gender</th>\n",
       "    </tr>\n",
       "  </thead>\n",
       "  <tbody>\n",
       "    <tr>\n",
       "      <th>0</th>\n",
       "      <td>Mary</td>\n",
       "      <td>0</td>\n",
       "    </tr>\n",
       "    <tr>\n",
       "      <th>1</th>\n",
       "      <td>Anna</td>\n",
       "      <td>0</td>\n",
       "    </tr>\n",
       "    <tr>\n",
       "      <th>2</th>\n",
       "      <td>Emma</td>\n",
       "      <td>0</td>\n",
       "    </tr>\n",
       "    <tr>\n",
       "      <th>3</th>\n",
       "      <td>Elizabeth</td>\n",
       "      <td>0</td>\n",
       "    </tr>\n",
       "    <tr>\n",
       "      <th>4</th>\n",
       "      <td>Minnie</td>\n",
       "      <td>0</td>\n",
       "    </tr>\n",
       "  </tbody>\n",
       "</table>\n",
       "</div>"
      ],
      "text/plain": [
       "        Name  Gender\n",
       "0       Mary       0\n",
       "1       Anna       0\n",
       "2       Emma       0\n",
       "3  Elizabeth       0\n",
       "4     Minnie       0"
      ]
     },
     "execution_count": 73,
     "metadata": {},
     "output_type": "execute_result"
    }
   ],
   "source": [
    "df1.head()"
   ]
  },
  {
   "cell_type": "code",
   "execution_count": 74,
   "metadata": {
    "id": "in8KLpG4cLqf"
   },
   "outputs": [],
   "source": [
    "gd1=df1.groupby(\"Name\")"
   ]
  },
  {
   "cell_type": "code",
   "execution_count": 75,
   "metadata": {
    "id": "H074Ujy7clvk"
   },
   "outputs": [],
   "source": [
    "df2=gd1.mean()"
   ]
  },
  {
   "cell_type": "code",
   "execution_count": 76,
   "metadata": {
    "colab": {
     "base_uri": "https://localhost:8080/",
     "height": 237
    },
    "id": "p0p-G7Qtcr3t",
    "outputId": "58731433-5ffe-49ff-9240-e4a43c810221"
   },
   "outputs": [
    {
     "data": {
      "text/html": [
       "<div>\n",
       "<style scoped>\n",
       "    .dataframe tbody tr th:only-of-type {\n",
       "        vertical-align: middle;\n",
       "    }\n",
       "\n",
       "    .dataframe tbody tr th {\n",
       "        vertical-align: top;\n",
       "    }\n",
       "\n",
       "    .dataframe thead th {\n",
       "        text-align: right;\n",
       "    }\n",
       "</style>\n",
       "<table border=\"1\" class=\"dataframe\">\n",
       "  <thead>\n",
       "    <tr style=\"text-align: right;\">\n",
       "      <th></th>\n",
       "      <th>Gender</th>\n",
       "    </tr>\n",
       "    <tr>\n",
       "      <th>Name</th>\n",
       "      <th></th>\n",
       "    </tr>\n",
       "  </thead>\n",
       "  <tbody>\n",
       "    <tr>\n",
       "      <th>Aaban</th>\n",
       "      <td>1.0</td>\n",
       "    </tr>\n",
       "    <tr>\n",
       "      <th>Aabha</th>\n",
       "      <td>0.0</td>\n",
       "    </tr>\n",
       "    <tr>\n",
       "      <th>Aabid</th>\n",
       "      <td>1.0</td>\n",
       "    </tr>\n",
       "    <tr>\n",
       "      <th>Aabriella</th>\n",
       "      <td>0.0</td>\n",
       "    </tr>\n",
       "    <tr>\n",
       "      <th>Aadam</th>\n",
       "      <td>1.0</td>\n",
       "    </tr>\n",
       "  </tbody>\n",
       "</table>\n",
       "</div>"
      ],
      "text/plain": [
       "           Gender\n",
       "Name             \n",
       "Aaban         1.0\n",
       "Aabha         0.0\n",
       "Aabid         1.0\n",
       "Aabriella     0.0\n",
       "Aadam         1.0"
      ]
     },
     "execution_count": 76,
     "metadata": {},
     "output_type": "execute_result"
    }
   ],
   "source": [
    "df2.head()"
   ]
  },
  {
   "cell_type": "code",
   "execution_count": 77,
   "metadata": {
    "id": "8YTqFiy7c7Xo"
   },
   "outputs": [],
   "source": [
    "df2.reset_index(inplace=True)"
   ]
  },
  {
   "cell_type": "code",
   "execution_count": 78,
   "metadata": {
    "colab": {
     "base_uri": "https://localhost:8080/",
     "height": 205
    },
    "id": "uSmu2MXndbnu",
    "outputId": "9cf52854-a1db-449c-e941-8fb979ed784c"
   },
   "outputs": [
    {
     "data": {
      "text/html": [
       "<div>\n",
       "<style scoped>\n",
       "    .dataframe tbody tr th:only-of-type {\n",
       "        vertical-align: middle;\n",
       "    }\n",
       "\n",
       "    .dataframe tbody tr th {\n",
       "        vertical-align: top;\n",
       "    }\n",
       "\n",
       "    .dataframe thead th {\n",
       "        text-align: right;\n",
       "    }\n",
       "</style>\n",
       "<table border=\"1\" class=\"dataframe\">\n",
       "  <thead>\n",
       "    <tr style=\"text-align: right;\">\n",
       "      <th></th>\n",
       "      <th>Name</th>\n",
       "      <th>Gender</th>\n",
       "    </tr>\n",
       "  </thead>\n",
       "  <tbody>\n",
       "    <tr>\n",
       "      <th>0</th>\n",
       "      <td>Aaban</td>\n",
       "      <td>1.0</td>\n",
       "    </tr>\n",
       "    <tr>\n",
       "      <th>1</th>\n",
       "      <td>Aabha</td>\n",
       "      <td>0.0</td>\n",
       "    </tr>\n",
       "    <tr>\n",
       "      <th>2</th>\n",
       "      <td>Aabid</td>\n",
       "      <td>1.0</td>\n",
       "    </tr>\n",
       "    <tr>\n",
       "      <th>3</th>\n",
       "      <td>Aabriella</td>\n",
       "      <td>0.0</td>\n",
       "    </tr>\n",
       "    <tr>\n",
       "      <th>4</th>\n",
       "      <td>Aadam</td>\n",
       "      <td>1.0</td>\n",
       "    </tr>\n",
       "  </tbody>\n",
       "</table>\n",
       "</div>"
      ],
      "text/plain": [
       "        Name  Gender\n",
       "0      Aaban     1.0\n",
       "1      Aabha     0.0\n",
       "2      Aabid     1.0\n",
       "3  Aabriella     0.0\n",
       "4      Aadam     1.0"
      ]
     },
     "execution_count": 78,
     "metadata": {},
     "output_type": "execute_result"
    }
   ],
   "source": [
    "df2.head()"
   ]
  },
  {
   "cell_type": "code",
   "execution_count": 79,
   "metadata": {
    "id": "JhYYWEYqddKg"
   },
   "outputs": [],
   "source": [
    "df2[\"Gender\"]=df2[\"Gender\"].astype(\"int\")"
   ]
  },
  {
   "cell_type": "code",
   "execution_count": 80,
   "metadata": {
    "colab": {
     "base_uri": "https://localhost:8080/",
     "height": 205
    },
    "id": "YHVSrHnoeAek",
    "outputId": "c579b36a-efd8-4127-a230-0b380237bb67"
   },
   "outputs": [
    {
     "data": {
      "text/html": [
       "<div>\n",
       "<style scoped>\n",
       "    .dataframe tbody tr th:only-of-type {\n",
       "        vertical-align: middle;\n",
       "    }\n",
       "\n",
       "    .dataframe tbody tr th {\n",
       "        vertical-align: top;\n",
       "    }\n",
       "\n",
       "    .dataframe thead th {\n",
       "        text-align: right;\n",
       "    }\n",
       "</style>\n",
       "<table border=\"1\" class=\"dataframe\">\n",
       "  <thead>\n",
       "    <tr style=\"text-align: right;\">\n",
       "      <th></th>\n",
       "      <th>Name</th>\n",
       "      <th>Gender</th>\n",
       "    </tr>\n",
       "  </thead>\n",
       "  <tbody>\n",
       "    <tr>\n",
       "      <th>0</th>\n",
       "      <td>Aaban</td>\n",
       "      <td>1</td>\n",
       "    </tr>\n",
       "    <tr>\n",
       "      <th>1</th>\n",
       "      <td>Aabha</td>\n",
       "      <td>0</td>\n",
       "    </tr>\n",
       "    <tr>\n",
       "      <th>2</th>\n",
       "      <td>Aabid</td>\n",
       "      <td>1</td>\n",
       "    </tr>\n",
       "    <tr>\n",
       "      <th>3</th>\n",
       "      <td>Aabriella</td>\n",
       "      <td>0</td>\n",
       "    </tr>\n",
       "    <tr>\n",
       "      <th>4</th>\n",
       "      <td>Aadam</td>\n",
       "      <td>1</td>\n",
       "    </tr>\n",
       "  </tbody>\n",
       "</table>\n",
       "</div>"
      ],
      "text/plain": [
       "        Name  Gender\n",
       "0      Aaban       1\n",
       "1      Aabha       0\n",
       "2      Aabid       1\n",
       "3  Aabriella       0\n",
       "4      Aadam       1"
      ]
     },
     "execution_count": 80,
     "metadata": {},
     "output_type": "execute_result"
    }
   ],
   "source": [
    "df2.head()"
   ]
  },
  {
   "cell_type": "code",
   "execution_count": 81,
   "metadata": {
    "id": "WFovMX1TeCgt"
   },
   "outputs": [],
   "source": [
    "import string"
   ]
  },
  {
   "cell_type": "code",
   "execution_count": 82,
   "metadata": {
    "id": "1DHm0HFLeIos"
   },
   "outputs": [],
   "source": [
    "letters=list(string.ascii_lowercase)"
   ]
  },
  {
   "cell_type": "code",
   "execution_count": 83,
   "metadata": {
    "colab": {
     "base_uri": "https://localhost:8080/"
    },
    "id": "AeE97Rp4eLk2",
    "outputId": "3d9c13e3-d633-4fef-fd79-1f9abc9b60a9"
   },
   "outputs": [
    {
     "data": {
      "text/plain": [
       "[1,\n",
       " 2,\n",
       " 3,\n",
       " 4,\n",
       " 5,\n",
       " 6,\n",
       " 7,\n",
       " 8,\n",
       " 9,\n",
       " 10,\n",
       " 11,\n",
       " 12,\n",
       " 13,\n",
       " 14,\n",
       " 15,\n",
       " 16,\n",
       " 17,\n",
       " 18,\n",
       " 19,\n",
       " 20,\n",
       " 21,\n",
       " 22,\n",
       " 23,\n",
       " 24,\n",
       " 25,\n",
       " 26]"
      ]
     },
     "execution_count": 83,
     "metadata": {},
     "output_type": "execute_result"
    }
   ],
   "source": [
    "list(range(1,27))"
   ]
  },
  {
   "cell_type": "code",
   "execution_count": 84,
   "metadata": {
    "id": "asp02O2dedpU"
   },
   "outputs": [],
   "source": [
    "vocab=dict(zip(letters,range(1,27)))"
   ]
  },
  {
   "cell_type": "code",
   "execution_count": 85,
   "metadata": {
    "colab": {
     "base_uri": "https://localhost:8080/"
    },
    "id": "-z-W94Vmex7U",
    "outputId": "8bb9de41-11c8-4f85-9e78-545ea70c40db"
   },
   "outputs": [
    {
     "data": {
      "text/plain": [
       "{'a': 1,\n",
       " 'b': 2,\n",
       " 'c': 3,\n",
       " 'd': 4,\n",
       " 'e': 5,\n",
       " 'f': 6,\n",
       " 'g': 7,\n",
       " 'h': 8,\n",
       " 'i': 9,\n",
       " 'j': 10,\n",
       " 'k': 11,\n",
       " 'l': 12,\n",
       " 'm': 13,\n",
       " 'n': 14,\n",
       " 'o': 15,\n",
       " 'p': 16,\n",
       " 'q': 17,\n",
       " 'r': 18,\n",
       " 's': 19,\n",
       " 't': 20,\n",
       " 'u': 21,\n",
       " 'v': 22,\n",
       " 'w': 23,\n",
       " 'x': 24,\n",
       " 'y': 25,\n",
       " 'z': 26}"
      ]
     },
     "execution_count": 85,
     "metadata": {},
     "output_type": "execute_result"
    }
   ],
   "source": [
    "vocab"
   ]
  },
  {
   "cell_type": "code",
   "execution_count": 86,
   "metadata": {
    "colab": {
     "base_uri": "https://localhost:8080/"
    },
    "id": "EuI6cngyezL2",
    "outputId": "7cd29eea-5fa7-4c26-d07c-169c427eb146"
   },
   "outputs": [
    {
     "data": {
      "text/plain": [
       "14"
      ]
     },
     "execution_count": 86,
     "metadata": {},
     "output_type": "execute_result"
    }
   ],
   "source": [
    "vocab[\"n\"]"
   ]
  },
  {
   "cell_type": "code",
   "execution_count": 87,
   "metadata": {
    "colab": {
     "base_uri": "https://localhost:8080/",
     "height": 34
    },
    "id": "Zhf4H5gZe3Zd",
    "outputId": "3a75bb70-1401-4c26-efc2-e29219d7eed0"
   },
   "outputs": [
    {
     "data": {
      "text/plain": [
       "'Aaban'"
      ]
     },
     "execution_count": 87,
     "metadata": {},
     "output_type": "execute_result"
    }
   ],
   "source": [
    "df2[\"Name\"][0]"
   ]
  },
  {
   "cell_type": "code",
   "execution_count": 88,
   "metadata": {
    "colab": {
     "base_uri": "https://localhost:8080/"
    },
    "id": "Iu6rqk6he88m",
    "outputId": "03e2d80a-0774-4930-bddf-01d3d5e9e83a"
   },
   "outputs": [
    {
     "name": "stdout",
     "output_type": "stream",
     "text": [
      "Aadan\n",
      "[1, 1, 4, 1, 14]\n"
     ]
    }
   ],
   "source": [
    "n=[]\n",
    "for i in df2[\"Name\"][5]:\n",
    "  num=vocab[i.lower()]\n",
    "  n.append(num)\n",
    "  \n",
    "print(df2[\"Name\"][5])\n",
    "print(n) \n"
   ]
  },
  {
   "cell_type": "code",
   "execution_count": 89,
   "metadata": {
    "colab": {
     "base_uri": "https://localhost:8080/"
    },
    "id": "brZDHkTbfCPQ",
    "outputId": "e38330da-00c3-4225-9142-79c6fc78f30d"
   },
   "outputs": [
    {
     "data": {
      "text/plain": [
       "(93889, 2)"
      ]
     },
     "execution_count": 89,
     "metadata": {},
     "output_type": "execute_result"
    }
   ],
   "source": [
    "df2.shape"
   ]
  },
  {
   "cell_type": "code",
   "execution_count": 90,
   "metadata": {
    "colab": {
     "base_uri": "https://localhost:8080/"
    },
    "id": "sgr3Ks-DgIrg",
    "outputId": "4c105c86-da5b-4c4d-c503-57cb347aad22"
   },
   "outputs": [
    {
     "data": {
      "text/plain": [
       "93889"
      ]
     },
     "execution_count": 90,
     "metadata": {},
     "output_type": "execute_result"
    }
   ],
   "source": [
    "df2.shape[0]"
   ]
  },
  {
   "cell_type": "code",
   "execution_count": 91,
   "metadata": {
    "colab": {
     "base_uri": "https://localhost:8080/"
    },
    "id": "zhQkzdmWgdly",
    "outputId": "46bee2cf-fa85-45e0-998c-4ee8e2e9ade5"
   },
   "outputs": [
    {
     "name": "stdout",
     "output_type": "stream",
     "text": [
      "Aabha\n",
      "Aabid\n",
      "Aabriella\n",
      "Aadam\n",
      "Aadan\n",
      "Aadarsh\n",
      "Aaden\n",
      "Aadesh\n",
      "Aadhav\n"
     ]
    }
   ],
   "source": [
    "for i in range(1,10):\n",
    "  print(df2[\"Name\"][i])"
   ]
  },
  {
   "cell_type": "code",
   "execution_count": 92,
   "metadata": {
    "colab": {
     "base_uri": "https://localhost:8080/",
     "height": 422
    },
    "id": "5NXnWjRrh9bR",
    "outputId": "099e4100-7e3a-4d38-90a4-8b37197d15de"
   },
   "outputs": [
    {
     "data": {
      "text/html": [
       "<div>\n",
       "<style scoped>\n",
       "    .dataframe tbody tr th:only-of-type {\n",
       "        vertical-align: middle;\n",
       "    }\n",
       "\n",
       "    .dataframe tbody tr th {\n",
       "        vertical-align: top;\n",
       "    }\n",
       "\n",
       "    .dataframe thead th {\n",
       "        text-align: right;\n",
       "    }\n",
       "</style>\n",
       "<table border=\"1\" class=\"dataframe\">\n",
       "  <thead>\n",
       "    <tr style=\"text-align: right;\">\n",
       "      <th></th>\n",
       "      <th>Name</th>\n",
       "      <th>Gender</th>\n",
       "    </tr>\n",
       "  </thead>\n",
       "  <tbody>\n",
       "    <tr>\n",
       "      <th>0</th>\n",
       "      <td>Aaban</td>\n",
       "      <td>1</td>\n",
       "    </tr>\n",
       "    <tr>\n",
       "      <th>1</th>\n",
       "      <td>Aabha</td>\n",
       "      <td>0</td>\n",
       "    </tr>\n",
       "    <tr>\n",
       "      <th>2</th>\n",
       "      <td>Aabid</td>\n",
       "      <td>1</td>\n",
       "    </tr>\n",
       "    <tr>\n",
       "      <th>3</th>\n",
       "      <td>Aabriella</td>\n",
       "      <td>0</td>\n",
       "    </tr>\n",
       "    <tr>\n",
       "      <th>4</th>\n",
       "      <td>Aadam</td>\n",
       "      <td>1</td>\n",
       "    </tr>\n",
       "    <tr>\n",
       "      <th>...</th>\n",
       "      <td>...</td>\n",
       "      <td>...</td>\n",
       "    </tr>\n",
       "    <tr>\n",
       "      <th>93884</th>\n",
       "      <td>Zytavious</td>\n",
       "      <td>1</td>\n",
       "    </tr>\n",
       "    <tr>\n",
       "      <th>93885</th>\n",
       "      <td>Zyvion</td>\n",
       "      <td>1</td>\n",
       "    </tr>\n",
       "    <tr>\n",
       "      <th>93886</th>\n",
       "      <td>Zyyanna</td>\n",
       "      <td>0</td>\n",
       "    </tr>\n",
       "    <tr>\n",
       "      <th>93887</th>\n",
       "      <td>Zyyon</td>\n",
       "      <td>1</td>\n",
       "    </tr>\n",
       "    <tr>\n",
       "      <th>93888</th>\n",
       "      <td>Zzyzx</td>\n",
       "      <td>1</td>\n",
       "    </tr>\n",
       "  </tbody>\n",
       "</table>\n",
       "<p>93889 rows × 2 columns</p>\n",
       "</div>"
      ],
      "text/plain": [
       "            Name  Gender\n",
       "0          Aaban       1\n",
       "1          Aabha       0\n",
       "2          Aabid       1\n",
       "3      Aabriella       0\n",
       "4          Aadam       1\n",
       "...          ...     ...\n",
       "93884  Zytavious       1\n",
       "93885     Zyvion       1\n",
       "93886    Zyyanna       0\n",
       "93887      Zyyon       1\n",
       "93888      Zzyzx       1\n",
       "\n",
       "[93889 rows x 2 columns]"
      ]
     },
     "execution_count": 92,
     "metadata": {},
     "output_type": "execute_result"
    }
   ],
   "source": [
    "df2"
   ]
  },
  {
   "cell_type": "code",
   "execution_count": 93,
   "metadata": {
    "id": "iujewchcgszg"
   },
   "outputs": [],
   "source": [
    "def name_to_num():\n",
    "  for i in range(0,df2.shape[0]):\n",
    "    seq=[vocab[j.lower()]    for j in df2[\"Name\"][i]]\n",
    "    df2[\"Name\"][i]=seq"
   ]
  },
  {
   "cell_type": "code",
   "execution_count": 94,
   "metadata": {},
   "outputs": [],
   "source": [
    "import warnings"
   ]
  },
  {
   "cell_type": "code",
   "execution_count": 95,
   "metadata": {},
   "outputs": [],
   "source": [
    "warnings.filterwarnings(\"ignore\")"
   ]
  },
  {
   "cell_type": "code",
   "execution_count": 96,
   "metadata": {
    "colab": {
     "base_uri": "https://localhost:8080/"
    },
    "id": "5dY_LrVOhhwI",
    "outputId": "43b5f51b-f332-4361-dc4d-7b2bc1d64523"
   },
   "outputs": [],
   "source": [
    "name_to_num()"
   ]
  },
  {
   "cell_type": "code",
   "execution_count": 97,
   "metadata": {
    "colab": {
     "base_uri": "https://localhost:8080/",
     "height": 205
    },
    "id": "XUvpJC-8hqLO",
    "outputId": "b5317913-b7b2-451d-bdba-a93d4669b232"
   },
   "outputs": [
    {
     "data": {
      "text/html": [
       "<div>\n",
       "<style scoped>\n",
       "    .dataframe tbody tr th:only-of-type {\n",
       "        vertical-align: middle;\n",
       "    }\n",
       "\n",
       "    .dataframe tbody tr th {\n",
       "        vertical-align: top;\n",
       "    }\n",
       "\n",
       "    .dataframe thead th {\n",
       "        text-align: right;\n",
       "    }\n",
       "</style>\n",
       "<table border=\"1\" class=\"dataframe\">\n",
       "  <thead>\n",
       "    <tr style=\"text-align: right;\">\n",
       "      <th></th>\n",
       "      <th>Name</th>\n",
       "      <th>Gender</th>\n",
       "    </tr>\n",
       "  </thead>\n",
       "  <tbody>\n",
       "    <tr>\n",
       "      <th>0</th>\n",
       "      <td>[1, 1, 2, 1, 14]</td>\n",
       "      <td>1</td>\n",
       "    </tr>\n",
       "    <tr>\n",
       "      <th>1</th>\n",
       "      <td>[1, 1, 2, 8, 1]</td>\n",
       "      <td>0</td>\n",
       "    </tr>\n",
       "    <tr>\n",
       "      <th>2</th>\n",
       "      <td>[1, 1, 2, 9, 4]</td>\n",
       "      <td>1</td>\n",
       "    </tr>\n",
       "    <tr>\n",
       "      <th>3</th>\n",
       "      <td>[1, 1, 2, 18, 9, 5, 12, 12, 1]</td>\n",
       "      <td>0</td>\n",
       "    </tr>\n",
       "    <tr>\n",
       "      <th>4</th>\n",
       "      <td>[1, 1, 4, 1, 13]</td>\n",
       "      <td>1</td>\n",
       "    </tr>\n",
       "  </tbody>\n",
       "</table>\n",
       "</div>"
      ],
      "text/plain": [
       "                             Name  Gender\n",
       "0                [1, 1, 2, 1, 14]       1\n",
       "1                 [1, 1, 2, 8, 1]       0\n",
       "2                 [1, 1, 2, 9, 4]       1\n",
       "3  [1, 1, 2, 18, 9, 5, 12, 12, 1]       0\n",
       "4                [1, 1, 4, 1, 13]       1"
      ]
     },
     "execution_count": 97,
     "metadata": {},
     "output_type": "execute_result"
    }
   ],
   "source": [
    "df2.head()"
   ]
  },
  {
   "cell_type": "code",
   "execution_count": 98,
   "metadata": {
    "id": "mk11zuwDif07"
   },
   "outputs": [],
   "source": [
    "X=df2[\"Name\"].values"
   ]
  },
  {
   "cell_type": "code",
   "execution_count": 99,
   "metadata": {
    "id": "8GZvTHgMioVW"
   },
   "outputs": [],
   "source": [
    "y=df2[\"Gender\"].values"
   ]
  },
  {
   "cell_type": "code",
   "execution_count": 100,
   "metadata": {
    "colab": {
     "base_uri": "https://localhost:8080/"
    },
    "id": "k1_Vzh0bixPA",
    "outputId": "882988e0-a990-40d6-d85b-5362765b7e90"
   },
   "outputs": [
    {
     "data": {
      "text/plain": [
       "array([list([1, 1, 2, 1, 14]), list([1, 1, 2, 8, 1]),\n",
       "       list([1, 1, 2, 9, 4]), ..., list([26, 25, 25, 1, 14, 14, 1]),\n",
       "       list([26, 25, 25, 15, 14]), list([26, 26, 25, 26, 24])],\n",
       "      dtype=object)"
      ]
     },
     "execution_count": 100,
     "metadata": {},
     "output_type": "execute_result"
    }
   ],
   "source": [
    "X"
   ]
  },
  {
   "cell_type": "code",
   "execution_count": 101,
   "metadata": {
    "id": "lXQxEYSuiyYJ"
   },
   "outputs": [],
   "source": [
    "from tensorflow.keras.preprocessing.sequence import pad_sequences"
   ]
  },
  {
   "cell_type": "code",
   "execution_count": 102,
   "metadata": {
    "id": "GZ82aAj9jGhj"
   },
   "outputs": [],
   "source": [
    "x=pad_sequences(df2[\"Name\"].values,maxlen=10,padding=\"pre\")"
   ]
  },
  {
   "cell_type": "code",
   "execution_count": 103,
   "metadata": {
    "colab": {
     "base_uri": "https://localhost:8080/"
    },
    "id": "qjHj638Hjgxg",
    "outputId": "ab444e56-a72f-48d9-b0a1-d391ed781c2f"
   },
   "outputs": [
    {
     "data": {
      "text/plain": [
       "array([[ 0,  0,  0, ...,  2,  1, 14],\n",
       "       [ 0,  0,  0, ...,  2,  8,  1],\n",
       "       [ 0,  0,  0, ...,  2,  9,  4],\n",
       "       ...,\n",
       "       [ 0,  0,  0, ..., 14, 14,  1],\n",
       "       [ 0,  0,  0, ..., 25, 15, 14],\n",
       "       [ 0,  0,  0, ..., 25, 26, 24]])"
      ]
     },
     "execution_count": 103,
     "metadata": {},
     "output_type": "execute_result"
    }
   ],
   "source": [
    "x"
   ]
  },
  {
   "cell_type": "code",
   "execution_count": 104,
   "metadata": {
    "colab": {
     "base_uri": "https://localhost:8080/"
    },
    "id": "xxr2FKvyjivU",
    "outputId": "1dcaf48b-6677-4d29-c02e-49fc0d5ed5ff"
   },
   "outputs": [
    {
     "data": {
      "text/plain": [
       "[1, 1, 2, 1, 14]"
      ]
     },
     "execution_count": 104,
     "metadata": {},
     "output_type": "execute_result"
    }
   ],
   "source": [
    "X[0]"
   ]
  },
  {
   "cell_type": "code",
   "execution_count": 105,
   "metadata": {
    "colab": {
     "base_uri": "https://localhost:8080/"
    },
    "id": "yzW2Hmqrjm4A",
    "outputId": "812ee72d-8955-4a3b-8b15-1d6372f49cdf"
   },
   "outputs": [
    {
     "data": {
      "text/plain": [
       "array([ 0,  0,  0,  0,  0,  1,  1,  2,  1, 14])"
      ]
     },
     "execution_count": 105,
     "metadata": {},
     "output_type": "execute_result"
    }
   ],
   "source": [
    "x[0]"
   ]
  },
  {
   "cell_type": "markdown",
   "metadata": {
    "id": "4w7nIQQij0bF"
   },
   "source": [
    "# model_building"
   ]
  },
  {
   "cell_type": "code",
   "execution_count": 106,
   "metadata": {
    "id": "-OTAA2Ghjpgo"
   },
   "outputs": [],
   "source": [
    "inp=layers.Input(shape=(10,))"
   ]
  },
  {
   "cell_type": "code",
   "execution_count": 107,
   "metadata": {
    "id": "yPYs_pWWkAZL"
   },
   "outputs": [],
   "source": [
    "emb=layers.Embedding(input_dim=27,output_dim=5)(inp)"
   ]
  },
  {
   "cell_type": "code",
   "execution_count": 108,
   "metadata": {
    "id": "WpGtCQ9KkPLB"
   },
   "outputs": [],
   "source": [
    "lstm1=layers.LSTM(units=32,return_sequences=True)(emb)"
   ]
  },
  {
   "cell_type": "code",
   "execution_count": 109,
   "metadata": {
    "id": "wOLGrcGykmpg"
   },
   "outputs": [],
   "source": [
    "lstm2=layers.LSTM(units=64)(lstm1)"
   ]
  },
  {
   "cell_type": "code",
   "execution_count": 110,
   "metadata": {
    "id": "PM0KQxiFkzIH"
   },
   "outputs": [],
   "source": [
    "out=layers.Dense(units=1,activation=\"sigmoid\")(lstm2)"
   ]
  },
  {
   "cell_type": "code",
   "execution_count": 111,
   "metadata": {
    "id": "mcdtK65ElZ4N"
   },
   "outputs": [],
   "source": [
    "model=keras.Model(inputs=inp,outputs=out)"
   ]
  },
  {
   "cell_type": "code",
   "execution_count": 112,
   "metadata": {
    "colab": {
     "base_uri": "https://localhost:8080/"
    },
    "id": "bObS51WZl3VB",
    "outputId": "9a57b71b-6d19-47eb-effb-fd65d7b4448d"
   },
   "outputs": [
    {
     "name": "stdout",
     "output_type": "stream",
     "text": [
      "Model: \"model\"\n",
      "_________________________________________________________________\n",
      "Layer (type)                 Output Shape              Param #   \n",
      "=================================================================\n",
      "input_1 (InputLayer)         [(None, 10)]              0         \n",
      "_________________________________________________________________\n",
      "embedding (Embedding)        (None, 10, 5)             135       \n",
      "_________________________________________________________________\n",
      "lstm (LSTM)                  (None, 10, 32)            4864      \n",
      "_________________________________________________________________\n",
      "lstm_1 (LSTM)                (None, 64)                24832     \n",
      "_________________________________________________________________\n",
      "dense (Dense)                (None, 1)                 65        \n",
      "=================================================================\n",
      "Total params: 29,896\n",
      "Trainable params: 29,896\n",
      "Non-trainable params: 0\n",
      "_________________________________________________________________\n"
     ]
    }
   ],
   "source": [
    "model.summary()"
   ]
  },
  {
   "cell_type": "code",
   "execution_count": 113,
   "metadata": {
    "id": "SFmBUxZdl6Hh"
   },
   "outputs": [],
   "source": [
    "model.compile(optimizer=\"adam\",loss=\"binary_crossentropy\",metrics=[\"accuracy\"])"
   ]
  },
  {
   "cell_type": "code",
   "execution_count": 114,
   "metadata": {
    "colab": {
     "base_uri": "https://localhost:8080/"
    },
    "id": "mt0sVf5ZmNIh",
    "outputId": "f585b0ec-d412-4fe9-ab5d-a591464c509d"
   },
   "outputs": [
    {
     "name": "stdout",
     "output_type": "stream",
     "text": [
      "Epoch 1/25\n",
      "294/294 [==============================] - 14s 32ms/step - loss: 0.5626 - accuracy: 0.7130 - val_loss: 0.4183 - val_accuracy: 0.8076\n",
      "Epoch 2/25\n",
      "294/294 [==============================] - 8s 27ms/step - loss: 0.4033 - accuracy: 0.8120 - val_loss: 0.3892 - val_accuracy: 0.8221\n",
      "Epoch 3/25\n",
      "294/294 [==============================] - 9s 29ms/step - loss: 0.3931 - accuracy: 0.8154 - val_loss: 0.3858 - val_accuracy: 0.8225\n",
      "Epoch 4/25\n",
      "294/294 [==============================] - 8s 28ms/step - loss: 0.3895 - accuracy: 0.8179 - val_loss: 0.3867 - val_accuracy: 0.8200\n",
      "Epoch 5/25\n",
      "294/294 [==============================] - 9s 29ms/step - loss: 0.3864 - accuracy: 0.8179 - val_loss: 0.3821 - val_accuracy: 0.8240\n",
      "Epoch 6/25\n",
      "294/294 [==============================] - 8s 28ms/step - loss: 0.3834 - accuracy: 0.8202 - val_loss: 0.3813 - val_accuracy: 0.8262\n",
      "Epoch 7/25\n",
      "294/294 [==============================] - 8s 29ms/step - loss: 0.3798 - accuracy: 0.8229 - val_loss: 0.3796 - val_accuracy: 0.8262\n",
      "Epoch 8/25\n",
      "294/294 [==============================] - 8s 29ms/step - loss: 0.3767 - accuracy: 0.8233 - val_loss: 0.3751 - val_accuracy: 0.8281\n",
      "Epoch 9/25\n",
      "294/294 [==============================] - 9s 29ms/step - loss: 0.3735 - accuracy: 0.8248 - val_loss: 0.3752 - val_accuracy: 0.8261\n",
      "Epoch 10/25\n",
      "294/294 [==============================] - 8s 29ms/step - loss: 0.3703 - accuracy: 0.8271 - val_loss: 0.3703 - val_accuracy: 0.8278\n",
      "Epoch 11/25\n",
      "294/294 [==============================] - 9s 29ms/step - loss: 0.3670 - accuracy: 0.8285 - val_loss: 0.3685 - val_accuracy: 0.8293\n",
      "Epoch 12/25\n",
      "294/294 [==============================] - 9s 29ms/step - loss: 0.3634 - accuracy: 0.8304 - val_loss: 0.3639 - val_accuracy: 0.8299\n",
      "Epoch 13/25\n",
      "294/294 [==============================] - 9s 29ms/step - loss: 0.3600 - accuracy: 0.8328 - val_loss: 0.3596 - val_accuracy: 0.8316\n",
      "Epoch 14/25\n",
      "294/294 [==============================] - 9s 29ms/step - loss: 0.3556 - accuracy: 0.8343 - val_loss: 0.3595 - val_accuracy: 0.8329\n",
      "Epoch 15/25\n",
      "294/294 [==============================] - 8s 28ms/step - loss: 0.3521 - accuracy: 0.8369 - val_loss: 0.3578 - val_accuracy: 0.8337\n",
      "Epoch 16/25\n",
      "294/294 [==============================] - 9s 32ms/step - loss: 0.3475 - accuracy: 0.8392 - val_loss: 0.3552 - val_accuracy: 0.8351\n",
      "Epoch 17/25\n",
      "294/294 [==============================] - 9s 32ms/step - loss: 0.3439 - accuracy: 0.8418 - val_loss: 0.3540 - val_accuracy: 0.8354\n",
      "Epoch 18/25\n",
      "294/294 [==============================] - 9s 31ms/step - loss: 0.3393 - accuracy: 0.8433 - val_loss: 0.3560 - val_accuracy: 0.8339\n",
      "Epoch 19/25\n",
      "294/294 [==============================] - 9s 32ms/step - loss: 0.3353 - accuracy: 0.8458 - val_loss: 0.3518 - val_accuracy: 0.8357\n",
      "Epoch 20/25\n",
      "294/294 [==============================] - 9s 30ms/step - loss: 0.3302 - accuracy: 0.8481 - val_loss: 0.3542 - val_accuracy: 0.8374\n",
      "Epoch 21/25\n",
      "294/294 [==============================] - 8s 28ms/step - loss: 0.3257 - accuracy: 0.8509 - val_loss: 0.3510 - val_accuracy: 0.8383\n",
      "Epoch 22/25\n",
      "294/294 [==============================] - 9s 30ms/step - loss: 0.3222 - accuracy: 0.8535 - val_loss: 0.3510 - val_accuracy: 0.8383\n",
      "Epoch 23/25\n",
      "294/294 [==============================] - 9s 29ms/step - loss: 0.3185 - accuracy: 0.8555 - val_loss: 0.3545 - val_accuracy: 0.8374\n",
      "Epoch 24/25\n",
      "294/294 [==============================] - 9s 29ms/step - loss: 0.3141 - accuracy: 0.8580 - val_loss: 0.3512 - val_accuracy: 0.8418\n",
      "Epoch 25/25\n",
      "294/294 [==============================] - 9s 29ms/step - loss: 0.3096 - accuracy: 0.8599 - val_loss: 0.3546 - val_accuracy: 0.8396\n"
     ]
    },
    {
     "data": {
      "text/plain": [
       "<keras.callbacks.History at 0x18c905fe490>"
      ]
     },
     "execution_count": 114,
     "metadata": {},
     "output_type": "execute_result"
    }
   ],
   "source": [
    "model.fit(x,y,epochs=25,batch_size=256,validation_split=0.20)"
   ]
  },
  {
   "cell_type": "code",
   "execution_count": 115,
   "metadata": {
    "id": "r_S6aHp-mcOt"
   },
   "outputs": [],
   "source": [
    "name=\"john\""
   ]
  },
  {
   "cell_type": "code",
   "execution_count": 116,
   "metadata": {
    "colab": {
     "base_uri": "https://localhost:8080/"
    },
    "id": "tDwSyhUBm9Zp",
    "outputId": "afccb79b-68fe-423f-b434-b1fa333e5736"
   },
   "outputs": [
    {
     "name": "stdout",
     "output_type": "stream",
     "text": [
      "[10, 15, 8, 14]\n"
     ]
    }
   ],
   "source": [
    "s=[vocab[i.lower()] for i in name]\n",
    "print(s)"
   ]
  },
  {
   "cell_type": "code",
   "execution_count": 117,
   "metadata": {
    "id": "5aDiMt7YnJJG"
   },
   "outputs": [],
   "source": [
    "test=pad_sequences([s],maxlen=10)"
   ]
  },
  {
   "cell_type": "code",
   "execution_count": 118,
   "metadata": {
    "colab": {
     "base_uri": "https://localhost:8080/"
    },
    "id": "lEkmJPusnUWY",
    "outputId": "08f93d4a-f124-48dd-c8c1-17a704565e33"
   },
   "outputs": [
    {
     "data": {
      "text/plain": [
       "array([[ 0,  0,  0,  0,  0,  0, 10, 15,  8, 14]])"
      ]
     },
     "execution_count": 118,
     "metadata": {},
     "output_type": "execute_result"
    }
   ],
   "source": [
    "test"
   ]
  },
  {
   "cell_type": "code",
   "execution_count": 119,
   "metadata": {
    "id": "2ZCs-IjinVM5"
   },
   "outputs": [],
   "source": [
    "p=model.predict(test)"
   ]
  },
  {
   "cell_type": "code",
   "execution_count": 120,
   "metadata": {
    "colab": {
     "base_uri": "https://localhost:8080/"
    },
    "id": "-H1-f4Hgnlp5",
    "outputId": "8a9bc728-2c55-44ff-bb4d-ecfa7bc08f21"
   },
   "outputs": [
    {
     "name": "stdout",
     "output_type": "stream",
     "text": [
      "john is male\n"
     ]
    }
   ],
   "source": [
    "if p>=0.5:\n",
    "  print(name,\"is male\")\n",
    "else :\n",
    "  print(name,\"is female\")"
   ]
  },
  {
   "cell_type": "code",
   "execution_count": null,
   "metadata": {
    "id": "XheEceIrnzeJ"
   },
   "outputs": [],
   "source": []
  }
 ],
 "metadata": {
  "colab": {
   "name": "NER.ipynb",
   "provenance": []
  },
  "kernelspec": {
   "display_name": "Python 3",
   "language": "python",
   "name": "python3"
  },
  "language_info": {
   "codemirror_mode": {
    "name": "ipython",
    "version": 3
   },
   "file_extension": ".py",
   "mimetype": "text/x-python",
   "name": "python",
   "nbconvert_exporter": "python",
   "pygments_lexer": "ipython3",
   "version": "3.8.5"
  }
 },
 "nbformat": 4,
 "nbformat_minor": 1
}
